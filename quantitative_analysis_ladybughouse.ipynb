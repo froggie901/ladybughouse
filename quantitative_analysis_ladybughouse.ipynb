{
 "cells": [
  {
   "cell_type": "markdown",
   "metadata": {},
   "source": [
    "# Quantitative Analysis for Lady Bug House \n",
    "\n",
    "## Creating Visuals of Quantitative Questions in the Caregiver Survey \n",
    "\n",
    "### By Patrick L. Cavins\n",
    "\n",
    "### Summary \n",
    "\n",
    "In this caregiver survey several questions where identified to be truely quantitative in nature. Here is an analysis of those questions.\n",
    "\n"
   ]
  },
  {
   "cell_type": "code",
   "execution_count": 57,
   "metadata": {},
   "outputs": [],
   "source": [
    "## Libraries\n",
    "\n",
    "import pandas as pd\n",
    "import seaborn as sns \n",
    "import numpy as np\n",
    "# import plotly.plotly as py\n",
    "# import plotly.graph_objs as go\n",
    "# import cufflinks as cf\n",
    "import os\n",
    "# import plotly.io as pio\n",
    "import matplotlib.pyplot as plt \n",
    "import matplotlib"
   ]
  },
  {
   "cell_type": "code",
   "execution_count": 58,
   "metadata": {},
   "outputs": [],
   "source": [
    "## import the survey data from ./Data \n",
    "df = pd.read_csv('./Data/lbh_data_python2.csv')"
   ]
  },
  {
   "cell_type": "code",
   "execution_count": 59,
   "metadata": {},
   "outputs": [],
   "source": [
    "## This is the list of questions which can be used to generate titles \n",
    "## for the graphs/tables I am making \n",
    "list_questions = df.iloc[0]"
   ]
  },
  {
   "cell_type": "code",
   "execution_count": 60,
   "metadata": {},
   "outputs": [
    {
     "data": {
      "text/plain": [
       "'Are you currently caring, or have you ever cared in the past for a child or adolescent with a life-limiting illness? For this study the term \"life-limiting illness\" is defined as any diagnosis or illness that has the potential to dramatically reduce years of life lived, or dramatically impact quality of life.'"
      ]
     },
     "execution_count": 60,
     "metadata": {},
     "output_type": "execute_result"
    }
   ],
   "source": [
    "list_questions[0]"
   ]
  },
  {
   "cell_type": "code",
   "execution_count": 61,
   "metadata": {},
   "outputs": [],
   "source": [
    "## Drop the questions from the data to built out the tables \n",
    "survey_data = df.drop([0,1])"
   ]
  },
  {
   "cell_type": "code",
   "execution_count": 62,
   "metadata": {},
   "outputs": [
    {
     "data": {
      "text/plain": [
       "(235, 140)"
      ]
     },
     "execution_count": 62,
     "metadata": {},
     "output_type": "execute_result"
    }
   ],
   "source": [
    "survey_data.shape"
   ]
  },
  {
   "cell_type": "code",
   "execution_count": 63,
   "metadata": {},
   "outputs": [
    {
     "data": {
      "text/html": [
       "<div>\n",
       "<style scoped>\n",
       "    .dataframe tbody tr th:only-of-type {\n",
       "        vertical-align: middle;\n",
       "    }\n",
       "\n",
       "    .dataframe tbody tr th {\n",
       "        vertical-align: top;\n",
       "    }\n",
       "\n",
       "    .dataframe thead th {\n",
       "        text-align: right;\n",
       "    }\n",
       "</style>\n",
       "<table border=\"1\" class=\"dataframe\">\n",
       "  <thead>\n",
       "    <tr style=\"text-align: right;\">\n",
       "      <th></th>\n",
       "      <th>Q149</th>\n",
       "      <th>Q137</th>\n",
       "      <th>Q18</th>\n",
       "      <th>Q16</th>\n",
       "      <th>Q17</th>\n",
       "      <th>Q134</th>\n",
       "      <th>Q19</th>\n",
       "      <th>Q20</th>\n",
       "      <th>Q20.1</th>\n",
       "      <th>Q20_1</th>\n",
       "      <th>...</th>\n",
       "      <th>Unnamed: 130</th>\n",
       "      <th>Unnamed: 131</th>\n",
       "      <th>Unnamed: 132</th>\n",
       "      <th>Unnamed: 133</th>\n",
       "      <th>Unnamed: 134</th>\n",
       "      <th>Unnamed: 135</th>\n",
       "      <th>Unnamed: 136</th>\n",
       "      <th>Unnamed: 137</th>\n",
       "      <th>Unnamed: 138</th>\n",
       "      <th>Unnamed: 139</th>\n",
       "    </tr>\n",
       "  </thead>\n",
       "  <tbody>\n",
       "    <tr>\n",
       "      <th>2</th>\n",
       "      <td>Yes, in the past</td>\n",
       "      <td>Yes</td>\n",
       "      <td>Yes</td>\n",
       "      <td>Mother</td>\n",
       "      <td>NaN</td>\n",
       "      <td>Yes</td>\n",
       "      <td>No</td>\n",
       "      <td>NaN</td>\n",
       "      <td>NaN</td>\n",
       "      <td>NaN</td>\n",
       "      <td>...</td>\n",
       "      <td>NaN</td>\n",
       "      <td>NaN</td>\n",
       "      <td>NaN</td>\n",
       "      <td>NaN</td>\n",
       "      <td>NaN</td>\n",
       "      <td>NaN</td>\n",
       "      <td>NaN</td>\n",
       "      <td>NaN</td>\n",
       "      <td>NaN</td>\n",
       "      <td>NaN</td>\n",
       "    </tr>\n",
       "    <tr>\n",
       "      <th>3</th>\n",
       "      <td>Yes, currently</td>\n",
       "      <td>Yes</td>\n",
       "      <td>Yes</td>\n",
       "      <td>Mother</td>\n",
       "      <td>NaN</td>\n",
       "      <td>NaN</td>\n",
       "      <td>NaN</td>\n",
       "      <td>NaN</td>\n",
       "      <td>NaN</td>\n",
       "      <td>NaN</td>\n",
       "      <td>...</td>\n",
       "      <td>NaN</td>\n",
       "      <td>NaN</td>\n",
       "      <td>NaN</td>\n",
       "      <td>NaN</td>\n",
       "      <td>NaN</td>\n",
       "      <td>NaN</td>\n",
       "      <td>NaN</td>\n",
       "      <td>NaN</td>\n",
       "      <td>NaN</td>\n",
       "      <td>NaN</td>\n",
       "    </tr>\n",
       "    <tr>\n",
       "      <th>4</th>\n",
       "      <td>Yes, in the past</td>\n",
       "      <td>Yes</td>\n",
       "      <td>Yes</td>\n",
       "      <td>Professional/hired caregiver</td>\n",
       "      <td>NaN</td>\n",
       "      <td>NaN</td>\n",
       "      <td>Yes</td>\n",
       "      <td>We moved from another state</td>\n",
       "      <td>NaN</td>\n",
       "      <td>NaN</td>\n",
       "      <td>...</td>\n",
       "      <td>NaN</td>\n",
       "      <td>NaN</td>\n",
       "      <td>NaN</td>\n",
       "      <td>NaN</td>\n",
       "      <td>NaN</td>\n",
       "      <td>NaN</td>\n",
       "      <td>NaN</td>\n",
       "      <td>NaN</td>\n",
       "      <td>NaN</td>\n",
       "      <td>NaN</td>\n",
       "    </tr>\n",
       "    <tr>\n",
       "      <th>5</th>\n",
       "      <td>Yes, in the past</td>\n",
       "      <td>Yes</td>\n",
       "      <td>Yes</td>\n",
       "      <td>Family member other than parent</td>\n",
       "      <td>NaN</td>\n",
       "      <td>NaN</td>\n",
       "      <td>NaN</td>\n",
       "      <td>NaN</td>\n",
       "      <td>NaN</td>\n",
       "      <td>NaN</td>\n",
       "      <td>...</td>\n",
       "      <td>NaN</td>\n",
       "      <td>NaN</td>\n",
       "      <td>NaN</td>\n",
       "      <td>NaN</td>\n",
       "      <td>NaN</td>\n",
       "      <td>NaN</td>\n",
       "      <td>NaN</td>\n",
       "      <td>NaN</td>\n",
       "      <td>NaN</td>\n",
       "      <td>NaN</td>\n",
       "    </tr>\n",
       "    <tr>\n",
       "      <th>6</th>\n",
       "      <td>Yes, currently</td>\n",
       "      <td>Yes</td>\n",
       "      <td>Yes</td>\n",
       "      <td>Professional/hired caregiver</td>\n",
       "      <td>NaN</td>\n",
       "      <td>NaN</td>\n",
       "      <td>No</td>\n",
       "      <td>NaN</td>\n",
       "      <td>NaN</td>\n",
       "      <td>NaN</td>\n",
       "      <td>...</td>\n",
       "      <td>NaN</td>\n",
       "      <td>NaN</td>\n",
       "      <td>NaN</td>\n",
       "      <td>NaN</td>\n",
       "      <td>NaN</td>\n",
       "      <td>NaN</td>\n",
       "      <td>NaN</td>\n",
       "      <td>NaN</td>\n",
       "      <td>NaN</td>\n",
       "      <td>NaN</td>\n",
       "    </tr>\n",
       "  </tbody>\n",
       "</table>\n",
       "<p>5 rows × 140 columns</p>\n",
       "</div>"
      ],
      "text/plain": [
       "               Q149 Q137  Q18                              Q16  Q17 Q134  Q19  \\\n",
       "2  Yes, in the past  Yes  Yes                           Mother  NaN  Yes   No   \n",
       "3    Yes, currently  Yes  Yes                           Mother  NaN  NaN  NaN   \n",
       "4  Yes, in the past  Yes  Yes     Professional/hired caregiver  NaN  NaN  Yes   \n",
       "5  Yes, in the past  Yes  Yes  Family member other than parent  NaN  NaN  NaN   \n",
       "6    Yes, currently  Yes  Yes     Professional/hired caregiver  NaN  NaN   No   \n",
       "\n",
       "                           Q20 Q20.1 Q20_1  ... Unnamed: 130 Unnamed: 131  \\\n",
       "2                          NaN   NaN   NaN  ...          NaN          NaN   \n",
       "3                          NaN   NaN   NaN  ...          NaN          NaN   \n",
       "4  We moved from another state   NaN   NaN  ...          NaN          NaN   \n",
       "5                          NaN   NaN   NaN  ...          NaN          NaN   \n",
       "6                          NaN   NaN   NaN  ...          NaN          NaN   \n",
       "\n",
       "  Unnamed: 132 Unnamed: 133 Unnamed: 134 Unnamed: 135 Unnamed: 136  \\\n",
       "2          NaN          NaN          NaN          NaN          NaN   \n",
       "3          NaN          NaN          NaN          NaN          NaN   \n",
       "4          NaN          NaN          NaN          NaN          NaN   \n",
       "5          NaN          NaN          NaN          NaN          NaN   \n",
       "6          NaN          NaN          NaN          NaN          NaN   \n",
       "\n",
       "  Unnamed: 137 Unnamed: 138 Unnamed: 139  \n",
       "2          NaN          NaN          NaN  \n",
       "3          NaN          NaN          NaN  \n",
       "4          NaN          NaN          NaN  \n",
       "5          NaN          NaN          NaN  \n",
       "6          NaN          NaN          NaN  \n",
       "\n",
       "[5 rows x 140 columns]"
      ]
     },
     "execution_count": 63,
     "metadata": {},
     "output_type": "execute_result"
    }
   ],
   "source": [
    "survey_data.head()"
   ]
  },
  {
   "cell_type": "code",
   "execution_count": 64,
   "metadata": {},
   "outputs": [],
   "source": [
    "## This fucntion takes in a question number, header format, and a dataframe \n",
    "\n",
    "def survey_quant (num, df):\n",
    "    # We are going to get categorical option, values, and the normalized values\n",
    "    # for each question:\n",
    "    \n",
    "    #Catergories refers to all responses recorded in the survey \n",
    "    categories = df[num].value_counts().keys().to_list()\n",
    "    \n",
    "    #Values is the number of counts for each response \n",
    "    values = df[num].value_counts().to_list()\n",
    "    \n",
    "    #Values_normalized is the \n",
    "    values_normalized = df[num].value_counts(normalize=True).to_list()\n",
    "    \n",
    "    # returns the 3 new variables\n",
    "    return categories, values, values_normalized"
   ]
  },
  {
   "cell_type": "code",
   "execution_count": 65,
   "metadata": {},
   "outputs": [],
   "source": [
    "records = survey_quant('Q149', survey_data)"
   ]
  },
  {
   "cell_type": "code",
   "execution_count": 66,
   "metadata": {},
   "outputs": [
    {
     "data": {
      "text/plain": [
       "(['Yes, in the past', 'Yes, currently'],\n",
       " [100, 85],\n",
       " [0.5405405405405406, 0.4594594594594595])"
      ]
     },
     "execution_count": 66,
     "metadata": {},
     "output_type": "execute_result"
    }
   ],
   "source": [
    "records"
   ]
  },
  {
   "cell_type": "code",
   "execution_count": 67,
   "metadata": {},
   "outputs": [
    {
     "data": {
      "text/plain": [
       "['Yes, in the past', 'Yes, currently']"
      ]
     },
     "execution_count": 67,
     "metadata": {},
     "output_type": "execute_result"
    }
   ],
   "source": [
    "records[0]"
   ]
  },
  {
   "cell_type": "code",
   "execution_count": 68,
   "metadata": {},
   "outputs": [
    {
     "data": {
      "image/png": "[encoded data removed]",
      "text/plain": [
       "<Figure size 720x720 with 1 Axes>"
      ]
     },
     "metadata": {},
     "output_type": "display_data"
    }
   ],
   "source": [
    "#Using MatplotLib to make a Bar Chart \n",
    "\n",
    "plt.figure(figsize=(10, 10))\n",
    "plt.bar(records[0], records[1])\n",
    "plt.ylabel('Counts', fontsize=16)\n",
    "plt.xlabel('Responses', fontsize=16)\n",
    "plt.tick_params(labelsize=14)\n",
    "plt.title(\"Test Testing\", fontsize=18);"
   ]
  },
  {
   "cell_type": "markdown",
   "metadata": {},
   "source": [
    "### Creating a dataframe to hold the information for the Table Subplot "
   ]
  },
  {
   "cell_type": "code",
   "execution_count": 69,
   "metadata": {},
   "outputs": [],
   "source": [
    "df = pd.DataFrame(columns= ('Value, Counts', 'Value, Normalized'), index=records[0])\n",
    "df['Value, Counts'] = records[1]\n",
    "df['Value, Normalized'] = records[2]"
   ]
  },
  {
   "cell_type": "markdown",
   "metadata": {},
   "source": [
    "## Builing a Matplotlib plot which has a graph and a table included"
   ]
  },
  {
   "cell_type": "code",
   "execution_count": 70,
   "metadata": {},
   "outputs": [
    {
     "data": {
      "image/png": "[encoded data removed]",
      "text/plain": [
       "<Figure size 864x864 with 1 Axes>"
      ]
     },
     "metadata": {},
     "output_type": "display_data"
    }
   ],
   "source": [
    "##Matplotlib to create a graph and table \n",
    "\n",
    "# Set Styles \n",
    "plt.style.use(['seaborn-paper', 'seaborn-whitegrid'])\n",
    "plt.style.use(['seaborn'])\n",
    "sns.set(palette='colorblind')\n",
    "\n",
    "#Set Size\n",
    "fig = plt.figure(figsize=(12, 12))\n",
    "\n",
    "\n",
    "\n",
    "#Title\n",
    "plt.title(f'{list_questions[0]}', )\n",
    "\n",
    "\n",
    "#Add a Bar Chart\n",
    "plt.bar(records[0], records[1])\n",
    "plt.ylabel('Counts', fontsize=16);\n",
    "\n",
    "# Add a Table\n",
    "plt.table(cellText=df.values,\n",
    "    rowLabels=df.index,\n",
    "    colLabels=df.columns,\n",
    "    cellLoc = 'center', \n",
    "    rowLoc = 'center',\n",
    "    loc='bottom',\n",
    "    bbox=[0, -0.3, 1, 0.2] \n",
    "         )\n",
    "\n",
    "fig.subplots_adjust(bottom=0.5)\n",
    "\n",
    "plt.savefig('./quant_images/test.pdf')\n",
    "plt.show()\n",
    "\n",
    "\n",
    "# https://stackoverflow.com/questions/35779047/matplotlib-table-plotting-layout-control\n",
    "# https://stackoverflow.com/questions/54138482/matplotlib-bar-plot-with-table-formatting\n"
   ]
  },
  {
   "cell_type": "markdown",
   "metadata": {},
   "source": [
    "## Making Graphs, Many at a Time "
   ]
  },
  {
   "cell_type": "markdown",
   "metadata": {},
   "source": [
    "### What is being saved\n",
    "\n",
    "\n",
    "records "
   ]
  },
  {
   "cell_type": "code",
   "execution_count": 71,
   "metadata": {},
   "outputs": [],
   "source": [
    "## Update the function to map the responses into the dataframe\n",
    "\n",
    "## This fucntion takes in a question number, header format, and a dataframe\n",
    "\n",
    "## This might not actually be needed, still evaluating (06/21/2019)\n",
    "\n",
    "def survey_quant2 (num, df):\n",
    "    # We are going to get categorical option, values, and the normalized values\n",
    "    # for each question:\n",
    "    \n",
    "    #Catergories refers to all responses recorded in the survey \n",
    "    categories = df[num].value_counts().keys().to_list()\n",
    "    \n",
    "    #Values is the number of counts for each response \n",
    "    values = df[num].value_counts().to_list()\n",
    "    \n",
    "    #Values_normalized is the \n",
    "    values_normalized = df[num].value_counts(normalize=True).to_list()\n",
    "    \n",
    "    #just variable used to built the dataframe \n",
    "    records = categories, values, values_normalized\n",
    "    \n",
    "    #This is the dataframe used for building the tables \n",
    "    new_df = pd.DataFrame(columns= ('Value, Counts', 'Value, Normalized'), index=records[0])\n",
    "    new_df['Value, Counts'] = records[1]\n",
    "    new_df['Value, Normalized'] = records[2]\n",
    "    \n",
    "    # returns the 4 new variables\n",
    "    return categories, values, values_normalized, new_df"
   ]
  },
  {
   "cell_type": "code",
   "execution_count": 72,
   "metadata": {},
   "outputs": [],
   "source": [
    "records = survey_quant2('Q149', survey_data)"
   ]
  },
  {
   "cell_type": "code",
   "execution_count": 73,
   "metadata": {},
   "outputs": [
    {
     "data": {
      "text/plain": [
       "['Yes, in the past', 'Yes, currently']"
      ]
     },
     "execution_count": 73,
     "metadata": {},
     "output_type": "execute_result"
    }
   ],
   "source": [
    "records[0]"
   ]
  },
  {
   "cell_type": "code",
   "execution_count": 74,
   "metadata": {},
   "outputs": [
    {
     "data": {
      "text/plain": [
       "[100, 85]"
      ]
     },
     "execution_count": 74,
     "metadata": {},
     "output_type": "execute_result"
    }
   ],
   "source": [
    "records[1]"
   ]
  },
  {
   "cell_type": "code",
   "execution_count": 76,
   "metadata": {},
   "outputs": [
    {
     "name": "stdout",
     "output_type": "stream",
     "text": [
      "Q149\n",
      "Q137\n",
      "Q18\n",
      "Q16\n",
      "Q17\n",
      "Q134\n",
      "Q19\n",
      "Q20\n",
      "Q20.1\n",
      "Q20_1\n",
      "Q21\n",
      "Q21_1\n",
      "Q22\n",
      "Q23\n",
      "Unnamed: 14\n",
      "Q24\n",
      "Q25\n",
      "Q26\n",
      "Q27\n",
      "Q29\n",
      "nope\n",
      "Q28\n",
      "Q33\n",
      "Q75\n",
      "Q31\n",
      "Q32\n",
      "nope\n",
      "Q34\n",
      "Q35_1\n",
      "Q36\n",
      "Q37\n",
      "Q38\n",
      "Q39\n",
      "Q40\n",
      "Q41\n",
      "Q42\n",
      "Q43\n",
      "C43\n",
      "Q44\n",
      "Q46\n",
      "Q47\n",
      "Q48\n",
      "Q49\n",
      "Q50\n",
      "Q51\n",
      "Q135\n",
      "Q52\n",
      "Q141\n",
      "Q140\n",
      "Q139\n",
      "Q53\n",
      "Q54\n",
      "Q55\n",
      "Q56\n",
      "Q58\n",
      "Q59\n",
      "Q60\n",
      "Q61\n",
      "Q62\n",
      "Q63\n",
      "Q64\n",
      "Q65\n",
      "Q66\n",
      "Q67\n",
      "Q68\n",
      "Q69\n",
      "Q70\n",
      "Q71\n",
      "Q72\n",
      "Q73\n",
      "Q74\n",
      "Q76\n",
      "Q78\n",
      "Q77\n",
      "Q79\n",
      "Q80\n",
      "Q81\n",
      "Q82\n",
      "Q84\n",
      "Q85\n",
      "Q83\n",
      "Q87\n",
      "Q88\n",
      "Q90\n",
      "Q91\n",
      "Q89\n",
      "Q92\n",
      "Q93\n",
      "Q94\n",
      "Q95\n",
      "Q96\n",
      "Q97\n",
      "Q98\n",
      "Q99\n",
      "Q100\n",
      "Q101\n",
      "Q102\n",
      "Q103\n",
      "Q104\n",
      "Q105\n",
      "Q106\n",
      "Q107\n",
      "Q108\n",
      "Q109\n",
      "Q110\n",
      "Q111\n",
      "Q112\n",
      "Q113\n",
      "Q114\n",
      "Q115\n",
      "Q116\n",
      "Q117\n",
      "Q119\n",
      "Q118\n",
      "Q120\n",
      "Q121\n",
      "Q122\n",
      "Q123\n",
      "Q124\n",
      "Q125\n",
      "Q126\n",
      "Q127\n",
      "Q128\n",
      "Q129\n",
      "Q132\n",
      "Q133\n",
      "Q130\n",
      "Q136\n",
      "Q134.1\n",
      "Q120 - Topics\n",
      "Unnamed: 128\n",
      "nope\n",
      "Unnamed: 129\n",
      "nope\n",
      "Unnamed: 130\n",
      "nope\n",
      "Unnamed: 131\n",
      "nope\n",
      "Unnamed: 132\n",
      "nope\n",
      "Unnamed: 133\n",
      "nope\n",
      "Unnamed: 134\n",
      "nope\n",
      "Unnamed: 135\n",
      "nope\n",
      "Unnamed: 136\n",
      "nope\n",
      "Unnamed: 137\n",
      "nope\n",
      "Unnamed: 138\n",
      "nope\n",
      "Unnamed: 139\n",
      "nope\n"
     ]
    }
   ],
   "source": [
    "#Use a for loop to go through the questions \n",
    "\n",
    "for column, question in zip(survey_data.columns, list_questions):\n",
    "    print (column)\n",
    "#     print (question)\n",
    "    \n",
    "    if len(survey_data[column]) == survey_data[column].isnull().sum():\n",
    "        print (\"nope\")\n",
    "    \n",
    "    else:\n",
    "    \n",
    "        records = survey_quant(column, survey_data)\n",
    "\n",
    "        #Creating the df needed for the table \n",
    "        df = pd.DataFrame(columns= ('Value, Counts', 'Value, Normalized'), index=records[0])\n",
    "        df['Value, Counts'] = records[1]\n",
    "        df['Value, Normalized'] = records[2]\n",
    "\n",
    "        ## Matplotlib to create a graph and table \n",
    "\n",
    "        # Set Styles \n",
    "        plt.style.use(['seaborn-paper', 'seaborn-whitegrid'])\n",
    "        plt.style.use(['seaborn'])\n",
    "        sns.set(palette='colorblind')\n",
    "\n",
    "        #Set Size\n",
    "        fig = plt.figure(figsize=(12, 12))\n",
    "\n",
    "        #Title\n",
    "        plt.title(f'{question}',)\n",
    "\n",
    "        #Add a Bar Chart\n",
    "        plt.bar(records[0], records[1])\n",
    "        plt.ylabel('Counts', fontsize=16)\n",
    "\n",
    "        # Add a Table\n",
    "        plt.table(cellText=df.values,\n",
    "            rowLabels=df.index,\n",
    "            colLabels=df.columns,\n",
    "            cellLoc = 'center', \n",
    "            rowLoc = 'center',\n",
    "            loc='bottom',\n",
    "            bbox=[0, -0.3, 1, 0.2] \n",
    "                 )\n",
    "\n",
    "        fig.subplots_adjust(bottom=0.5)\n",
    "\n",
    "        #Show my work! \n",
    "#         plt.show()\n",
    "\n",
    "        #Save my work!\n",
    "        plt.savefig(f'./quant_images/{column}.pdf')\n",
    "        plt.close()"
   ]
  },
  {
   "cell_type": "code",
   "execution_count": null,
   "metadata": {},
   "outputs": [],
   "source": []
  },
  {
   "cell_type": "markdown",
   "metadata": {},
   "source": [
    "## Part II, Question Editing\n",
    "\n",
    "After making the graphs initialy they were reviewed, and some graphs we then produced manually as a 1-off. Some questions also required manual editing. Also changes to questions and/or responses are noted in this section."
   ]
  },
  {
   "cell_type": "markdown",
   "metadata": {},
   "source": [
    "### For Question 119 \n",
    "\n",
    "Original Reponse:\n",
    "We sacrificed by being on a single income.  We were week to week, I paid one bill one month another bill the next month.  We had to have a stash of $$ in case we had to go to the hospital which was nearly two hours away.  \n",
    "\n",
    "Updated Response:\n",
    "We sacrificed by being on a single income.  We were week to week, I paid one bill one month another bill the next month.  We had to have a stash of money in case we had to go to the hospital which was nearly two hours away.  "
   ]
  },
  {
   "cell_type": "markdown",
   "metadata": {},
   "source": [
    "### For Question 21 \n",
    "\n",
    "Question - "
   ]
  },
  {
   "cell_type": "code",
   "execution_count": null,
   "metadata": {},
   "outputs": [],
   "source": []
  },
  {
   "cell_type": "code",
   "execution_count": null,
   "metadata": {},
   "outputs": [],
   "source": []
  },
  {
   "cell_type": "code",
   "execution_count": null,
   "metadata": {},
   "outputs": [],
   "source": []
  },
  {
   "cell_type": "code",
   "execution_count": null,
   "metadata": {},
   "outputs": [],
   "source": []
  },
  {
   "cell_type": "code",
   "execution_count": null,
   "metadata": {},
   "outputs": [],
   "source": []
  },
  {
   "cell_type": "code",
   "execution_count": null,
   "metadata": {},
   "outputs": [],
   "source": []
  },
  {
   "cell_type": "code",
   "execution_count": null,
   "metadata": {},
   "outputs": [],
   "source": []
  },
  {
   "cell_type": "code",
   "execution_count": null,
   "metadata": {},
   "outputs": [],
   "source": []
  },
  {
   "cell_type": "code",
   "execution_count": null,
   "metadata": {},
   "outputs": [],
   "source": []
  },
  {
   "cell_type": "code",
   "execution_count": null,
   "metadata": {},
   "outputs": [],
   "source": []
  },
  {
   "cell_type": "code",
   "execution_count": null,
   "metadata": {},
   "outputs": [],
   "source": []
  },
  {
   "cell_type": "code",
   "execution_count": null,
   "metadata": {},
   "outputs": [],
   "source": []
  },
  {
   "cell_type": "code",
   "execution_count": null,
   "metadata": {},
   "outputs": [],
   "source": []
  },
  {
   "cell_type": "code",
   "execution_count": null,
   "metadata": {},
   "outputs": [],
   "source": [
    "# # Set styles\n",
    "# plt.style.use(['seaborn-paper', 'seaborn-whitegrid'])\n",
    "# plt.style.use(['seaborn'])\n",
    "# sns.set(palette='colorblind')\n",
    "\n",
    "# colors = sns.color_palette(palette='colorblind')\n",
    "# columns = ('Responses', 'Value, Counts', 'Value, Normalized')\n",
    "\n",
    "\n",
    "\n",
    "# #Making Bar Chart\n",
    "# plt.figure(figsize=(10, 10))\n",
    "# plt.bar(records[0], records[1])\n",
    "# plt.ylabel('Counts', fontsize=16)\n",
    "# # plt.xlabel('Responses', fontsize=16)\n",
    "# plt.tick_params(labelsize=14)\n",
    "# plt.title(\"Test Testing\", fontsize=18)\n",
    "\n"
   ]
  },
  {
   "cell_type": "code",
   "execution_count": null,
   "metadata": {},
   "outputs": [],
   "source": []
  },
  {
   "cell_type": "code",
   "execution_count": null,
   "metadata": {},
   "outputs": [],
   "source": [
    "# # Set styles\n",
    "# plt.style.use(['seaborn-paper', 'seaborn-whitegrid'])\n",
    "# plt.style.use(['seaborn'])\n",
    "# sns.set(palette='colorblind')\n",
    "# # matplotlib.rc(\"font\", family=\"Times New Roman\", size=12)\n",
    "\n",
    "# labels = ['n=1','n=2','n=3','n=4','n=5']\n",
    "# a = [98.8,98.8,98.8,98.8,98.8]\n",
    "# b = [98.6,97.8,97.0,96.2,95.4]\n",
    "# bar_width = 0.20\n",
    "# data = [a,b]\n",
    "\n",
    "# colors = sns.color_palette(palette='colorblind')\n",
    "# columns = ('n=1', 'n=2', 'n=3', 'n=4', 'n=5')\n",
    "\n",
    "# index = np.arange(len(labels))\n",
    "# fig = plt.figure(figsize=(12,9))\n",
    "# plt.bar(index, a, bar_width)\n",
    "# plt.bar(index+bar_width+.02, b, bar_width)\n",
    "# plt.table(cellText=data,\n",
    "#           rowLabels=[' a ', ' b '],\n",
    "#           rowColours=colors,\n",
    "#           colLabels=columns,\n",
    "# #           loc='bottom',\n",
    "#           bbox=[0, 0.1, 1, 0.2])\n",
    "\n",
    "# fig.subplots_adjust(bottom=0.1)\n",
    "\n",
    "# plt.ylabel('Some y label which effect the bottom padding!')\n",
    "# plt.xticks([])\n",
    "# plt.title('Some')\n",
    "# plt.show()\n",
    "\n",
    "\n",
    "# # https://stackoverflow.com/questions/54138482/matplotlib-bar-plot-with-table-formatting"
   ]
  },
  {
   "cell_type": "code",
   "execution_count": null,
   "metadata": {},
   "outputs": [],
   "source": [
    "data"
   ]
  },
  {
   "cell_type": "code",
   "execution_count": null,
   "metadata": {},
   "outputs": [],
   "source": [
    "records[1]"
   ]
  },
  {
   "cell_type": "code",
   "execution_count": null,
   "metadata": {},
   "outputs": [],
   "source": [
    "records[2]"
   ]
  },
  {
   "cell_type": "code",
   "execution_count": null,
   "metadata": {},
   "outputs": [],
   "source": [
    "data"
   ]
  },
  {
   "cell_type": "code",
   "execution_count": null,
   "metadata": {},
   "outputs": [],
   "source": []
  },
  {
   "cell_type": "code",
   "execution_count": null,
   "metadata": {},
   "outputs": [],
   "source": []
  },
  {
   "cell_type": "code",
   "execution_count": null,
   "metadata": {},
   "outputs": [],
   "source": []
  },
  {
   "cell_type": "code",
   "execution_count": null,
   "metadata": {},
   "outputs": [],
   "source": []
  },
  {
   "cell_type": "code",
   "execution_count": null,
   "metadata": {},
   "outputs": [],
   "source": []
  },
  {
   "cell_type": "code",
   "execution_count": null,
   "metadata": {},
   "outputs": [],
   "source": []
  },
  {
   "cell_type": "markdown",
   "metadata": {},
   "source": [
    "## Generating the Table for a Single Question "
   ]
  },
  {
   "cell_type": "code",
   "execution_count": null,
   "metadata": {},
   "outputs": [],
   "source": [
    "# ## This fucntion takes in a question number, header format, and a dataframe \n",
    "\n",
    "# def survey_quant (num, df):\n",
    "#     # We are going to get categorical option, values, and the normalized values\n",
    "#     # for each question:\n",
    "    \n",
    "#     #Catergories refers to all responses recorded in the survey \n",
    "#     categories = df[num].value_counts().keys().to_list()\n",
    "    \n",
    "#     #Values is the number of counts for each response \n",
    "#     values = df[num].value_counts().to_list()\n",
    "    \n",
    "#     #Values_normalized is the \n",
    "#     values_normalized = df[num].value_counts(normalize=True).to_list()\n",
    "    \n",
    "#     # returns the 3 new variables\n",
    "#     return categories, values, values_normalized"
   ]
  },
  {
   "cell_type": "code",
   "execution_count": null,
   "metadata": {},
   "outputs": [],
   "source": [
    "records = survey_quant('Q149', survey_data)"
   ]
  },
  {
   "cell_type": "code",
   "execution_count": null,
   "metadata": {},
   "outputs": [],
   "source": [
    "records[0]"
   ]
  },
  {
   "cell_type": "code",
   "execution_count": null,
   "metadata": {},
   "outputs": [],
   "source": [
    "records[1]"
   ]
  },
  {
   "cell_type": "code",
   "execution_count": null,
   "metadata": {},
   "outputs": [],
   "source": [
    "records[2]"
   ]
  },
  {
   "cell_type": "code",
   "execution_count": null,
   "metadata": {},
   "outputs": [],
   "source": [
    "table_values = [[records[0]],\n",
    "                [records[1]],\n",
    "                [records[2]]]"
   ]
  },
  {
   "cell_type": "code",
   "execution_count": null,
   "metadata": {},
   "outputs": [],
   "source": [
    "# ## Making a Table in Plot.ly\n",
    "\n",
    "# #This is defining the structure of the tables \n",
    "# table_trace = go.Table(\n",
    "#     header=dict(\n",
    "#         values=['Responses', 'Values, Raw', 'Values, Normalized']),\n",
    "#     cells=dict(\n",
    "#         values= table_values)\n",
    "# )\n",
    "\n",
    "# #Builing out the layout\n",
    "# layout = go.Layout(\n",
    "#      = \"Does this work?\",\n",
    "    \n",
    "# )\n",
    "\n",
    "\n",
    "# # This is the figure structure \n",
    "# fig = go.Figure(data=[table_trace], layout=layout)\n",
    "\n",
    "\n",
    "\n",
    "# #Generates the plot\n",
    "# py.iplot(data, filename = 'test')\n"
   ]
  },
  {
   "cell_type": "code",
   "execution_count": null,
   "metadata": {},
   "outputs": [],
   "source": [
    "# trace0 = go.Table(\n",
    "#   columnwidth = [400,800],\n",
    "#   header = dict(\n",
    "#     values = [['Responses'],\n",
    "#                   ['Values, Raw'],['Values, Percentage']],\n",
    "#     line = dict(color = '#506784'),\n",
    "#     fill = dict(color = '#119DFF'),\n",
    "#     align = ['left','center'],\n",
    "#     font = dict(color = 'white', size = 12),\n",
    "#     height = 40\n",
    "#   ),\n",
    "    \n",
    "#     cells = dict(\n",
    "#     values = table_values,\n",
    "#     line = dict(color = '#506784'),\n",
    "#     fill = dict(color = ['#25FEFD', 'white']),\n",
    "#     align = ['left', 'center'],\n",
    "#     font = dict(color = '#506784', size = 12),\n",
    "#     height = 30\n",
    "#     ))\n",
    "\n",
    "# layout = go.Layout(\n",
    "#     title= go.layout.Title(\n",
    "#         text=f'{list_questions[]}',\n",
    "        \n",
    "# #         xref='paper',\n",
    "#         x=0))"
   ]
  },
  {
   "cell_type": "code",
   "execution_count": null,
   "metadata": {},
   "outputs": [],
   "source": [
    "# data = [trace0]\n",
    "# fig = go.Figure(data=data, layout=layout)\n",
    "# py.iplot(fig, filename = 'q75')"
   ]
  },
  {
   "cell_type": "code",
   "execution_count": null,
   "metadata": {},
   "outputs": [],
   "source": [
    "# pio.write_image(fig, './quant_images/test.png')"
   ]
  },
  {
   "cell_type": "markdown",
   "metadata": {},
   "source": [
    "## Generating Tables for Every Question in the Survey "
   ]
  },
  {
   "cell_type": "code",
   "execution_count": null,
   "metadata": {},
   "outputs": [],
   "source": [
    "# for column, question in zip(survey_data.columns, list_questions):\n",
    "#     print (column)\n",
    "#     print (question)\n",
    "    \n",
    "#     records = survey_quant(column, survey_data)\n",
    "#     table_values  = [[records[0]],\n",
    "#                      [records[1]],\n",
    "#                      [records[2]]]\n",
    "    \n",
    "#     trace0 = go.Table(\n",
    "#       columnwidth = [400,800],\n",
    "#       header = dict(\n",
    "#         values = [['Responses'],\n",
    "#                       ['Values, Raw'],['Values, Percentage']],\n",
    "#         line = dict(color = '#506784'),\n",
    "#         fill = dict(color = '#119DFF'),\n",
    "#         align = ['left','center'],\n",
    "#         font = dict(color = 'white', size = 12),\n",
    "#         height = 40\n",
    "#       ),\n",
    "\n",
    "#         cells = dict(\n",
    "#         values = table_values,\n",
    "#         line = dict(color = '#506784'),\n",
    "#         fill = dict(color = ['#25FEFD', 'white']),\n",
    "#         align = ['left', 'center'],\n",
    "#         font = dict(color = '#506784', size = 12),\n",
    "#         height = 30\n",
    "#         ))\n",
    "\n",
    "#     layout = go.Layout(\n",
    "#         title= go.layout.Title(\n",
    "#             text=f'{question}',\n",
    "#     #         xref='paper',\n",
    "#             x=0))\n",
    "    \n",
    "#     data = [trace0]\n",
    "#     fig = go.Figure(data=data, layout=layout)\n",
    "    \n",
    "#     pio.write_image(fig, f'./quant_images/{column}.png')"
   ]
  }
 ],
 "metadata": {
  "kernelspec": {
   "display_name": "Python 3",
   "language": "python",
   "name": "python3"
  },
  "language_info": {
   "codemirror_mode": {
    "name": "ipython",
    "version": 3
   },
   "file_extension": ".py",
   "mimetype": "text/x-python",
   "name": "python",
   "nbconvert_exporter": "python",
   "pygments_lexer": "ipython3",
   "version": "3.6.5"
  }
 },
 "nbformat": 4,
 "nbformat_minor": 2
}
